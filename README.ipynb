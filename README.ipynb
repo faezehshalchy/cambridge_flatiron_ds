{
 "cells": [
  {
   "cell_type": "markdown",
   "metadata": {},
   "source": [
    "Description\n",
    "\n",
    "This an Exploratory Data Analysis (EDA) of Energy Efficiency of building. The dataset was created by Angeliki Xifara (angxifara '@' gmail.com, Civil/Structural Engineer) and was processed by Athanasios Tsanas (tsanasthanasis '@' gmail.com, Oxford Centre for Industrial and Applied Mathematics, University of Oxford, UK).\n",
    "\n",
    "Data Set Information:\n",
    "\n",
    "We perform energy analysis using 12 different building shapes simulated in Ecotect. The buildings differ with respect to the glazing area, the glazing area distribution, and the orientation, amongst other parameters. We simulate various settings as functions of the afore-mentioned characteristics to obtain 768 building shapes. The dataset comprises 768 samples and 8 features.\n",
    "\n",
    "\n",
    "Guiding questions\n",
    "\n",
    "What is the effect of building morphology on energy consumption of buildings.\n",
    "\n",
    "Which parameters have direct corrolation with HL and CL?\n",
    "\n",
    "What is the effect of glazing area on HL and CL?\n",
    "\n",
    "None. All libraries used are in the notebook ready to be downloaded:\n",
    "\n",
    "* numpy\n",
    "* pandas\n",
    "* matplotlib\n",
    "* seaborn\n",
    "Comments\n",
    "\n",
    "I want to continue to work on some findings and adjust some visualizations which I am not so happy with. Also, there is a lot more to explore in this dataset: peredicting the outputs, etc. I'll continue to update this notebook during my learning process of Python and data analysis. Thanks to Joe and the whole class. It was a pleasure learning and collaborating with all of you.\n",
    "\n",
    "If you have any comments, suggestions or just want to say hello:\n",
    "\n",
    "Email: faeze.shalchy@gmail.com\n",
    "Linkedin: https://www.linkedin.com/in/faezeh-shalchy-242139102/ "
   ]
  },
  {
   "cell_type": "code",
   "execution_count": null,
   "metadata": {},
   "outputs": [],
   "source": []
  }
 ],
 "metadata": {
  "kernelspec": {
   "display_name": "Python 3",
   "language": "python",
   "name": "python3"
  },
  "language_info": {
   "codemirror_mode": {
    "name": "ipython",
    "version": 3
   },
   "file_extension": ".py",
   "mimetype": "text/x-python",
   "name": "python",
   "nbconvert_exporter": "python",
   "pygments_lexer": "ipython3",
   "version": "3.8.5"
  }
 },
 "nbformat": 4,
 "nbformat_minor": 4
}
